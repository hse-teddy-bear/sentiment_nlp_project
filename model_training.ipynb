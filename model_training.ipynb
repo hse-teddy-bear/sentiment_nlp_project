{
 "cells": [
  {
   "cell_type": "markdown",
   "id": "c7e67194",
   "metadata": {},
   "source": [
    "### **Описание проекта**"
   ]
  },
  {
   "cell_type": "markdown",
   "id": "748a0503",
   "metadata": {},
   "source": [
    "**Название проекта:** дообучение модели BERT для задачи извлечения финансового сентимента из постов пользователей (stock twits).\n",
    "\n",
    "**Цель проекта:** Дообучить модель на задачу извлечения финансового сентимента из постов пользователей платформы Т-банка. \n",
    "\n",
    "**Актуальность проекта:** на данный момент в Open Source есть несколько аналогичных моделей, но они в основном на извлечение сентимента из финансовых документов, а не из органических данных пользователей. Также данную модель можно использовать для расчета сентимент-метрик и дальнейшего построение регрессионных прогнозных моделей.\n",
    "\n",
    "**Данные:** парсинг постов с сайта Т-банк Пульс (файл parsing.ipynb), далее их разметка через LLM (train) и небольшой сет из 500 комментариев ручной разметки в качестве теста."
   ]
  },
  {
   "cell_type": "markdown",
   "id": "95cfc21a",
   "metadata": {},
   "source": [
    "### **Библиотеки**"
   ]
  },
  {
   "cell_type": "code",
   "execution_count": 1,
   "id": "3da01006",
   "metadata": {},
   "outputs": [],
   "source": [
    "import pandas as pd\n",
    "import numpy as np\n",
    "from datetime import datetime\n",
    "from tqdm import tqdm\n",
    "import matplotlib.pyplot as plt\n",
    "import os\n",
    "import re\n",
    "\n",
    "import warnings\n",
    "warnings.filterwarnings('ignore')"
   ]
  },
  {
   "cell_type": "markdown",
   "id": "03a69b7d",
   "metadata": {},
   "source": [
    "### **EDA, Data preps**"
   ]
  },
  {
   "cell_type": "markdown",
   "id": "99703906",
   "metadata": {},
   "source": [
    "Загружаю данные с этапа парсинга. Далее эти данные были размечены через API OpenAI, модель GPT-4o"
   ]
  },
  {
   "cell_type": "code",
   "execution_count": 2,
   "id": "bd0cce7b",
   "metadata": {},
   "outputs": [
    {
     "data": {
      "text/plain": [
       "(9608, 2)"
      ]
     },
     "execution_count": 2,
     "metadata": {},
     "output_type": "execute_result"
    }
   ],
   "source": [
    "# данные с парсинга и разметки\n",
    "data = pd.read_csv('df_labelled_llm.csv')\n",
    "data.shape"
   ]
  },
  {
   "cell_type": "code",
   "execution_count": 3,
   "id": "1ae9be7c",
   "metadata": {},
   "outputs": [
    {
     "data": {
      "text/plain": [
       "(500, 2)"
      ]
     },
     "execution_count": 3,
     "metadata": {},
     "output_type": "execute_result"
    }
   ],
   "source": [
    "# загружаем тест-сет с ручной разметкой постов на сентимент\n",
    "test_set = pd.read_csv('test_set.csv')\n",
    "test_set.shape"
   ]
  },
  {
   "cell_type": "code",
   "execution_count": 4,
   "id": "f1f8b514",
   "metadata": {},
   "outputs": [
    {
     "data": {
      "text/html": [
       "<div>\n",
       "<style scoped>\n",
       "    .dataframe tbody tr th:only-of-type {\n",
       "        vertical-align: middle;\n",
       "    }\n",
       "\n",
       "    .dataframe tbody tr th {\n",
       "        vertical-align: top;\n",
       "    }\n",
       "\n",
       "    .dataframe thead th {\n",
       "        text-align: right;\n",
       "    }\n",
       "</style>\n",
       "<table border=\"1\" class=\"dataframe\">\n",
       "  <thead>\n",
       "    <tr style=\"text-align: right;\">\n",
       "      <th></th>\n",
       "      <th>text_preprocessed</th>\n",
       "      <th>label</th>\n",
       "    </tr>\n",
       "  </thead>\n",
       "  <tbody>\n",
       "    <tr>\n",
       "      <th>0</th>\n",
       "      <td>продаем тем временем с 5-процентной выгодой бу...</td>\n",
       "      <td>sell</td>\n",
       "    </tr>\n",
       "    <tr>\n",
       "      <th>1</th>\n",
       "      <td>зато совершаем по итогам вчерашнего дня самую ...</td>\n",
       "      <td>buy</td>\n",
       "    </tr>\n",
       "    <tr>\n",
       "      <th>2</th>\n",
       "      <td>в 2022 году башнефть {$bane}  прирастила запас...</td>\n",
       "      <td>neutral</td>\n",
       "    </tr>\n",
       "    <tr>\n",
       "      <th>3</th>\n",
       "      <td>вот сегодня отчитались {$rosn} и {$bane} . .. ...</td>\n",
       "      <td>sell</td>\n",
       "    </tr>\n",
       "    <tr>\n",
       "      <th>4</th>\n",
       "      <td>{$tatn} {$tatnp} {$lkoh} {$sibn} {$krknp} {$ba...</td>\n",
       "      <td>neutral</td>\n",
       "    </tr>\n",
       "    <tr>\n",
       "      <th>...</th>\n",
       "      <td>...</td>\n",
       "      <td>...</td>\n",
       "    </tr>\n",
       "    <tr>\n",
       "      <th>9603</th>\n",
       "      <td>лонг и шорт - что выбрать? Оба варианта равноз...</td>\n",
       "      <td>neutral</td>\n",
       "    </tr>\n",
       "    <tr>\n",
       "      <th>9604</th>\n",
       "      <td>лучше идти в лонг, если на рынке положительная...</td>\n",
       "      <td>buy</td>\n",
       "    </tr>\n",
       "    <tr>\n",
       "      <th>9605</th>\n",
       "      <td>лучше шортить или идти в шорт, если на рынке п...</td>\n",
       "      <td>sell</td>\n",
       "    </tr>\n",
       "    <tr>\n",
       "      <th>9606</th>\n",
       "      <td>всё падает, значит лучше шортить</td>\n",
       "      <td>sell</td>\n",
       "    </tr>\n",
       "    <tr>\n",
       "      <th>9607</th>\n",
       "      <td>всё растет, пришло время встать в лонг и лонго...</td>\n",
       "      <td>buy</td>\n",
       "    </tr>\n",
       "  </tbody>\n",
       "</table>\n",
       "<p>9608 rows × 2 columns</p>\n",
       "</div>"
      ],
      "text/plain": [
       "                                      text_preprocessed    label\n",
       "0     продаем тем временем с 5-процентной выгодой бу...     sell\n",
       "1     зато совершаем по итогам вчерашнего дня самую ...      buy\n",
       "2     в 2022 году башнефть {$bane}  прирастила запас...  neutral\n",
       "3     вот сегодня отчитались {$rosn} и {$bane} . .. ...     sell\n",
       "4     {$tatn} {$tatnp} {$lkoh} {$sibn} {$krknp} {$ba...  neutral\n",
       "...                                                 ...      ...\n",
       "9603  лонг и шорт - что выбрать? Оба варианта равноз...  neutral\n",
       "9604  лучше идти в лонг, если на рынке положительная...      buy\n",
       "9605  лучше шортить или идти в шорт, если на рынке п...     sell\n",
       "9606                   всё падает, значит лучше шортить     sell\n",
       "9607  всё растет, пришло время встать в лонг и лонго...      buy\n",
       "\n",
       "[9608 rows x 2 columns]"
      ]
     },
     "execution_count": 4,
     "metadata": {},
     "output_type": "execute_result"
    }
   ],
   "source": [
    "data"
   ]
  },
  {
   "cell_type": "markdown",
   "id": "72b1849e",
   "metadata": {},
   "source": [
    "Обработаем данные:\n",
    "- эмодзи уже убраны\n",
    "- уберем значки тикеров компаний, чтобы модель не оверфитилась на это, например, {$tatn}"
   ]
  },
  {
   "cell_type": "code",
   "execution_count": 5,
   "id": "6f84b156",
   "metadata": {},
   "outputs": [],
   "source": [
    "def remove_curly_words(text):\n",
    "    if isinstance(text, str):\n",
    "        text = re.sub(r'\\s+', ' ', text)\n",
    "        text = re.sub(r'\\{\\$[^}]*\\}', '', text)\n",
    "        text = re.sub(r'\\s+', ' ', text).strip()\n",
    "        return text\n",
    "    return text\n",
    "\n",
    "data['text_preprocessed'] = data['text_preprocessed'].apply(remove_curly_words)"
   ]
  },
  {
   "cell_type": "markdown",
   "id": "41075cf0",
   "metadata": {},
   "source": [
    "Посмотрим на длину постов в датасете после чистки. Уберем краевые случаи. И помним что контекстное окно в bert составляет 512 токенов.\n",
    "1000 символов это примерно 300 токенов."
   ]
  },
  {
   "cell_type": "code",
   "execution_count": 6,
   "id": "f8cf712d",
   "metadata": {},
   "outputs": [
    {
     "data": {
      "image/png": "[encoded data removed]",
      "text/plain": [
       "<Figure size 640x480 with 1 Axes>"
      ]
     },
     "metadata": {},
     "output_type": "display_data"
    }
   ],
   "source": [
    "text_lenths = data['text_preprocessed'].str.len()\n",
    "\n",
    "plt.hist(text_lenths, bins=20)\n",
    "plt.xlabel('Кол-во букв в посте')\n",
    "plt.ylabel('Кол-во постов')\n",
    "plt.show()"
   ]
  },
  {
   "cell_type": "code",
   "execution_count": 7,
   "id": "2cc5f880",
   "metadata": {},
   "outputs": [
    {
     "data": {
      "text/plain": [
       "(7002, 2)"
      ]
     },
     "execution_count": 7,
     "metadata": {},
     "output_type": "execute_result"
    }
   ],
   "source": [
    "data = data.loc[(data['text_preprocessed'].str.len() >= 50) & (data['text_preprocessed'].str.len() <= 1000)]\n",
    "data = data.reset_index(drop=True)\n",
    "data.shape"
   ]
  },
  {
   "cell_type": "code",
   "execution_count": 8,
   "id": "248b3e98",
   "metadata": {},
   "outputs": [
    {
     "data": {
      "image/png": "[encoded data removed]",
      "text/plain": [
       "<Figure size 640x480 with 1 Axes>"
      ]
     },
     "metadata": {},
     "output_type": "display_data"
    }
   ],
   "source": [
    "text_lenths = data['text_preprocessed'].str.len()\n",
    "\n",
    "plt.hist(text_lenths, bins=20)\n",
    "plt.xlabel('Кол-во букв в посте')\n",
    "plt.ylabel('Кол-во постов')\n",
    "plt.show()"
   ]
  },
  {
   "cell_type": "code",
   "execution_count": 9,
   "id": "710e6a9d",
   "metadata": {},
   "outputs": [
    {
     "data": {
      "text/html": [
       "<div>\n",
       "<style scoped>\n",
       "    .dataframe tbody tr th:only-of-type {\n",
       "        vertical-align: middle;\n",
       "    }\n",
       "\n",
       "    .dataframe tbody tr th {\n",
       "        vertical-align: top;\n",
       "    }\n",
       "\n",
       "    .dataframe thead th {\n",
       "        text-align: right;\n",
       "    }\n",
       "</style>\n",
       "<table border=\"1\" class=\"dataframe\">\n",
       "  <thead>\n",
       "    <tr style=\"text-align: right;\">\n",
       "      <th></th>\n",
       "      <th>text_preprocessed</th>\n",
       "      <th>label</th>\n",
       "    </tr>\n",
       "  </thead>\n",
       "  <tbody>\n",
       "    <tr>\n",
       "      <th>0</th>\n",
       "      <td>продаем тем временем с 5-процентной выгодой бу...</td>\n",
       "      <td>sell</td>\n",
       "    </tr>\n",
       "    <tr>\n",
       "      <th>1</th>\n",
       "      <td>зато совершаем по итогам вчерашнего дня самую ...</td>\n",
       "      <td>buy</td>\n",
       "    </tr>\n",
       "    <tr>\n",
       "      <th>2</th>\n",
       "      <td>в 2022 году башнефть прирастила запасы нефти и...</td>\n",
       "      <td>neutral</td>\n",
       "    </tr>\n",
       "    <tr>\n",
       "      <th>3</th>\n",
       "      <td>вот сегодня отчитались и . .. из-за демпфера б...</td>\n",
       "      <td>sell</td>\n",
       "    </tr>\n",
       "    <tr>\n",
       "      <th>4</th>\n",
       "      <td>башнефть может выплатить неплохие дивиденды по...</td>\n",
       "      <td>neutral</td>\n",
       "    </tr>\n",
       "  </tbody>\n",
       "</table>\n",
       "</div>"
      ],
      "text/plain": [
       "                                   text_preprocessed    label\n",
       "0  продаем тем временем с 5-процентной выгодой бу...     sell\n",
       "1  зато совершаем по итогам вчерашнего дня самую ...      buy\n",
       "2  в 2022 году башнефть прирастила запасы нефти и...  neutral\n",
       "3  вот сегодня отчитались и . .. из-за демпфера б...     sell\n",
       "4  башнефть может выплатить неплохие дивиденды по...  neutral"
      ]
     },
     "execution_count": 9,
     "metadata": {},
     "output_type": "execute_result"
    }
   ],
   "source": [
    "data.head()"
   ]
  },
  {
   "cell_type": "code",
   "execution_count": 10,
   "id": "5ebac85c",
   "metadata": {},
   "outputs": [
    {
     "data": {
      "text/plain": [
       "'в 2022 году башнефть прирастила запасы нефти и газа в объеме 20,6 млн т нефтяного эквивалента.. .'"
      ]
     },
     "execution_count": 10,
     "metadata": {},
     "output_type": "execute_result"
    }
   ],
   "source": [
    "(data.head()['text_preprocessed'][2])"
   ]
  },
  {
   "cell_type": "code",
   "execution_count": 11,
   "id": "76c857b7",
   "metadata": {},
   "outputs": [
    {
     "data": {
      "text/plain": [
       "neutral    2982\n",
       "buy        2148\n",
       "sell       1872\n",
       "Name: label, dtype: int64"
      ]
     },
     "execution_count": 11,
     "metadata": {},
     "output_type": "execute_result"
    }
   ],
   "source": [
    "data['label'].value_counts()"
   ]
  },
  {
   "cell_type": "markdown",
   "id": "dc1b88bb",
   "metadata": {},
   "source": [
    "Проведена предобработка текстов, распределение классов почти равномерное."
   ]
  },
  {
   "cell_type": "markdown",
   "id": "a4780e17",
   "metadata": {},
   "source": [
    "### **Fine-tuning & Validation**"
   ]
  },
  {
   "cell_type": "markdown",
   "id": "7b80615e",
   "metadata": {},
   "source": [
    "Возьмем rubert-base-cased, заморозим слои, наденем классификационную голову и её затюним :)"
   ]
  },
  {
   "cell_type": "code",
   "execution_count": 25,
   "id": "c59d2af9",
   "metadata": {},
   "outputs": [],
   "source": [
    "import torch\n",
    "from transformers import BertForSequenceClassification, BertTokenizer, AdamW\n",
    "import torch.nn as nn\n",
    "from transformers import BertModel, BertTokenizer\n",
    "from torch.utils.data import Dataset, DataLoader\n",
    "from sklearn.model_selection import train_test_split\n",
    "from torch.utils.data import Dataset, DataLoader\n",
    "import pandas as pd\n",
    "from tqdm import tqdm\n",
    "from tqdm import tqdm_gui\n",
    "from torch.optim.lr_scheduler import ExponentialLR\n",
    "import time\n",
    "\n",
    "tqdm.pandas(bar_format='{l_bar}{bar:20}{r_bar}{bar:-20b}')"
   ]
  },
  {
   "cell_type": "code",
   "execution_count": 14,
   "id": "8cee7746",
   "metadata": {},
   "outputs": [],
   "source": [
    "class BERTWithMLP(nn.Module):\n",
    "    def __init__(self, bert_model_name, num_labels=3, hidden_size=768, dropout_prob=0.1):\n",
    "        super().__init__()\n",
    "        # Загружаем BERT без головы\n",
    "        self.bert = BertModel.from_pretrained(bert_model_name)\n",
    "        \n",
    "        # Замораживаем все слои BERT\n",
    "        for param in self.bert.parameters():\n",
    "            param.requires_grad = False\n",
    "            \n",
    "        # Наша MLP голова\n",
    "        self.classifier = nn.Sequential(\n",
    "            nn.Linear(hidden_size, 512),\n",
    "            nn.ReLU(),\n",
    "            nn.Dropout(dropout_prob),\n",
    "            nn.Linear(512, 256),\n",
    "            nn.ReLU(),\n",
    "            nn.Dropout(dropout_prob),\n",
    "            nn.Linear(256, num_labels)\n",
    "        )\n",
    "        \n",
    "    def forward(self, input_ids, attention_mask):\n",
    "        outputs = self.bert(\n",
    "            input_ids=input_ids,\n",
    "            attention_mask=attention_mask\n",
    "        )\n",
    "        pooled_output = outputs.last_hidden_state[:, 0, :]\n",
    "        logits = self.classifier(pooled_output)\n",
    "        return logits"
   ]
  },
  {
   "cell_type": "code",
   "execution_count": 15,
   "id": "2cde2766",
   "metadata": {},
   "outputs": [],
   "source": [
    "class FinancialDataset(Dataset):\n",
    "    def __init__(self, texts, labels, tokenizer, max_len=512):\n",
    "        self.texts = texts\n",
    "        self.labels = labels\n",
    "        self.tokenizer = tokenizer\n",
    "        self.max_len = max_len\n",
    "        self.label_map = {'buy': 0, 'sell': 1, 'neutral': 2}\n",
    "        \n",
    "    def __len__(self):\n",
    "        return len(self.texts)\n",
    "    \n",
    "    def __getitem__(self, idx):\n",
    "        text = str(self.texts[idx])\n",
    "        label = self.label_map[self.labels[idx]]\n",
    "        \n",
    "        encoding = self.tokenizer(\n",
    "            text,\n",
    "            max_length=self.max_len,\n",
    "            padding='max_length',\n",
    "            truncation=True,\n",
    "            return_tensors='pt'\n",
    "        )\n",
    "        \n",
    "        return {\n",
    "            'input_ids': encoding['input_ids'].flatten(),\n",
    "            'attention_mask': encoding['attention_mask'].flatten(),\n",
    "            'label': torch.tensor(label, dtype=torch.long)\n",
    "        }"
   ]
  },
  {
   "cell_type": "code",
   "execution_count": 34,
   "id": "69303060",
   "metadata": {},
   "outputs": [
    {
     "name": "stderr",
     "output_type": "stream",
     "text": [
      "Some weights of the model checkpoint at DeepPavlov/rubert-base-cased were not used when initializing BertModel: ['cls.predictions.bias', 'cls.predictions.decoder.bias', 'cls.predictions.decoder.weight', 'cls.predictions.transform.LayerNorm.bias', 'cls.predictions.transform.LayerNorm.weight', 'cls.predictions.transform.dense.bias', 'cls.predictions.transform.dense.weight', 'cls.seq_relationship.bias', 'cls.seq_relationship.weight']\n",
      "- This IS expected if you are initializing BertModel from the checkpoint of a model trained on another task or with another architecture (e.g. initializing a BertForSequenceClassification model from a BertForPreTraining model).\n",
      "- This IS NOT expected if you are initializing BertModel from the checkpoint of a model that you expect to be exactly identical (initializing a BertForSequenceClassification model from a BertForSequenceClassification model).\n"
     ]
    }
   ],
   "source": [
    "model_name = 'DeepPavlov/rubert-base-cased'\n",
    "tokenizer = BertTokenizer.from_pretrained(model_name)\n",
    "model = BERTWithMLP(model_name, num_labels=3)"
   ]
  },
  {
   "cell_type": "code",
   "execution_count": 17,
   "id": "348e48bb",
   "metadata": {},
   "outputs": [],
   "source": [
    "# Разделение данных для обучения\n",
    "train_df, val_df = train_test_split(data, test_size=0.1, random_state=42)"
   ]
  },
  {
   "cell_type": "code",
   "execution_count": 18,
   "id": "7762ca47",
   "metadata": {},
   "outputs": [],
   "source": [
    "train_dataset = FinancialDataset(\n",
    "    train_df['text_preprocessed'].values,\n",
    "    train_df['label'].values,\n",
    "    tokenizer\n",
    ")\n",
    "\n",
    "val_dataset = FinancialDataset(\n",
    "    val_df['text_preprocessed'].values,\n",
    "    val_df['label'].values,\n",
    "    tokenizer\n",
    ")\n",
    "\n",
    "train_loader = DataLoader(train_dataset, batch_size=64, shuffle=True)\n",
    "val_loader = DataLoader(val_dataset, batch_size=64)\n"
   ]
  },
  {
   "cell_type": "code",
   "execution_count": 35,
   "id": "ab9d4741",
   "metadata": {},
   "outputs": [
    {
     "name": "stdout",
     "output_type": "stream",
     "text": [
      "cuda:0\n",
      "Gamma: 0.6475\n"
     ]
    }
   ],
   "source": [
    "device = torch.device('cuda:0' if torch.cuda.is_available() else 'cpu')\n",
    "model = model.to(device)\n",
    "\n",
    "epochs = 10\n",
    "initial_lr = 1e-3\n",
    "final_lr = 2e-5\n",
    "\n",
    "optimizer = AdamW(model.parameters(), lr=initial_lr)\n",
    "loss_fn = torch.nn.CrossEntropyLoss()\n",
    "\n",
    "gamma = (final_lr / initial_lr) ** (1 / (epochs - 1))\n",
    "scheduler = ExponentialLR(optimizer, gamma=gamma)\n",
    "\n",
    "print(device)\n",
    "print(f\"Gamma: {gamma:.4f}\")"
   ]
  },
  {
   "cell_type": "code",
   "execution_count": 36,
   "id": "1028b936",
   "metadata": {},
   "outputs": [
    {
     "name": "stderr",
     "output_type": "stream",
     "text": [
      "Epoch 1/10 [LR=1.00e-03]: 100%|\u001b[32m██████████████████████████████\u001b[0m| 99/99 [00:20<00:00,  4.74it/s, batch_loss=1.1089, lr=1.0e-03]\u001b[32m\u001b[0m\n"
     ]
    },
    {
     "name": "stdout",
     "output_type": "stream",
     "text": [
      "\n",
      "Epoch 1 Summary:\n",
      "Train Loss: 1.0120\n"
     ]
    },
    {
     "name": "stderr",
     "output_type": "stream",
     "text": [
      "Epoch 1/10 [VAL]: 100%|\u001b[34m██████████████████████████████\u001b[0m| 11/11 [00:02<00:00,  5.19it/s, batch_acc=0.52]\u001b[34m\u001b[0m\n"
     ]
    },
    {
     "name": "stdout",
     "output_type": "stream",
     "text": [
      "Val Loss: 0.9661\n",
      "Val Accuracy: 0.5278\n",
      "\n"
     ]
    },
    {
     "name": "stderr",
     "output_type": "stream",
     "text": [
      "Epoch 2/10 [LR=6.47e-04]: 100%|\u001b[32m██████████████████████████████\u001b[0m| 99/99 [00:20<00:00,  4.75it/s, batch_loss=0.8980, lr=6.5e-04]\u001b[32m\u001b[0m\n"
     ]
    },
    {
     "name": "stdout",
     "output_type": "stream",
     "text": [
      "\n",
      "Epoch 2 Summary:\n",
      "Train Loss: 0.9505\n"
     ]
    },
    {
     "name": "stderr",
     "output_type": "stream",
     "text": [
      "Epoch 2/10 [VAL]: 100%|\u001b[34m██████████████████████████████\u001b[0m| 11/11 [00:02<00:00,  5.20it/s, batch_acc=0.57]\u001b[34m\u001b[0m\n"
     ]
    },
    {
     "name": "stdout",
     "output_type": "stream",
     "text": [
      "Val Loss: 0.9341\n",
      "Val Accuracy: 0.5549\n",
      "\n"
     ]
    },
    {
     "name": "stderr",
     "output_type": "stream",
     "text": [
      "Epoch 3/10 [LR=4.19e-04]: 100%|\u001b[32m██████████████████████████████\u001b[0m| 99/99 [00:20<00:00,  4.74it/s, batch_loss=0.9117, lr=4.2e-04]\u001b[32m\u001b[0m\n"
     ]
    },
    {
     "name": "stdout",
     "output_type": "stream",
     "text": [
      "\n",
      "Epoch 3 Summary:\n",
      "Train Loss: 0.9242\n"
     ]
    },
    {
     "name": "stderr",
     "output_type": "stream",
     "text": [
      "Epoch 3/10 [VAL]: 100%|\u001b[34m██████████████████████████████\u001b[0m| 11/11 [00:02<00:00,  5.18it/s, batch_acc=0.57]\u001b[34m\u001b[0m\n"
     ]
    },
    {
     "name": "stdout",
     "output_type": "stream",
     "text": [
      "Val Loss: 0.9262\n",
      "Val Accuracy: 0.5421\n",
      "\n"
     ]
    },
    {
     "name": "stderr",
     "output_type": "stream",
     "text": [
      "Epoch 4/10 [LR=2.71e-04]: 100%|\u001b[32m██████████████████████████████\u001b[0m| 99/99 [00:20<00:00,  4.73it/s, batch_loss=0.8438, lr=2.7e-04]\u001b[32m\u001b[0m\n"
     ]
    },
    {
     "name": "stdout",
     "output_type": "stream",
     "text": [
      "\n",
      "Epoch 4 Summary:\n",
      "Train Loss: 0.9140\n"
     ]
    },
    {
     "name": "stderr",
     "output_type": "stream",
     "text": [
      "Epoch 4/10 [VAL]: 100%|\u001b[34m██████████████████████████████\u001b[0m| 11/11 [00:02<00:00,  5.18it/s, batch_acc=0.64]\u001b[34m\u001b[0m\n"
     ]
    },
    {
     "name": "stdout",
     "output_type": "stream",
     "text": [
      "Val Loss: 0.9195\n",
      "Val Accuracy: 0.5535\n",
      "\n"
     ]
    },
    {
     "name": "stderr",
     "output_type": "stream",
     "text": [
      "Epoch 5/10 [LR=1.76e-04]: 100%|\u001b[32m██████████████████████████████\u001b[0m| 99/99 [00:20<00:00,  4.72it/s, batch_loss=0.7689, lr=1.8e-04]\u001b[32m\u001b[0m\n"
     ]
    },
    {
     "name": "stdout",
     "output_type": "stream",
     "text": [
      "\n",
      "Epoch 5 Summary:\n",
      "Train Loss: 0.9019\n"
     ]
    },
    {
     "name": "stderr",
     "output_type": "stream",
     "text": [
      "Epoch 5/10 [VAL]: 100%|\u001b[34m██████████████████████████████\u001b[0m| 11/11 [00:02<00:00,  5.18it/s, batch_acc=0.66]\u001b[34m\u001b[0m\n"
     ]
    },
    {
     "name": "stdout",
     "output_type": "stream",
     "text": [
      "Val Loss: 0.9083\n",
      "Val Accuracy: 0.5506\n",
      "\n"
     ]
    },
    {
     "name": "stderr",
     "output_type": "stream",
     "text": [
      "Epoch 6/10 [LR=1.14e-04]: 100%|\u001b[32m██████████████████████████████\u001b[0m| 99/99 [00:20<00:00,  4.73it/s, batch_loss=0.9194, lr=1.1e-04]\u001b[32m\u001b[0m\n"
     ]
    },
    {
     "name": "stdout",
     "output_type": "stream",
     "text": [
      "\n",
      "Epoch 6 Summary:\n",
      "Train Loss: 0.8973\n"
     ]
    },
    {
     "name": "stderr",
     "output_type": "stream",
     "text": [
      "Epoch 6/10 [VAL]: 100%|\u001b[34m██████████████████████████████\u001b[0m| 11/11 [00:02<00:00,  5.19it/s, batch_acc=0.61]\u001b[34m\u001b[0m\n"
     ]
    },
    {
     "name": "stdout",
     "output_type": "stream",
     "text": [
      "Val Loss: 0.9076\n",
      "Val Accuracy: 0.5492\n",
      "\n"
     ]
    },
    {
     "name": "stderr",
     "output_type": "stream",
     "text": [
      "Epoch 7/10 [LR=7.37e-05]: 100%|\u001b[32m██████████████████████████████\u001b[0m| 99/99 [00:20<00:00,  4.72it/s, batch_loss=0.6930, lr=7.4e-05]\u001b[32m\u001b[0m\n"
     ]
    },
    {
     "name": "stdout",
     "output_type": "stream",
     "text": [
      "\n",
      "Epoch 7 Summary:\n",
      "Train Loss: 0.8979\n"
     ]
    },
    {
     "name": "stderr",
     "output_type": "stream",
     "text": [
      "Epoch 7/10 [VAL]: 100%|\u001b[34m██████████████████████████████\u001b[0m| 11/11 [00:02<00:00,  5.18it/s, batch_acc=0.62]\u001b[34m\u001b[0m\n"
     ]
    },
    {
     "name": "stdout",
     "output_type": "stream",
     "text": [
      "Val Loss: 0.9041\n",
      "Val Accuracy: 0.5506\n",
      "\n"
     ]
    },
    {
     "name": "stderr",
     "output_type": "stream",
     "text": [
      "Epoch 8/10 [LR=4.77e-05]: 100%|\u001b[32m██████████████████████████████\u001b[0m| 99/99 [00:20<00:00,  4.73it/s, batch_loss=0.9392, lr=4.8e-05]\u001b[32m\u001b[0m\n"
     ]
    },
    {
     "name": "stdout",
     "output_type": "stream",
     "text": [
      "\n",
      "Epoch 8 Summary:\n",
      "Train Loss: 0.8936\n"
     ]
    },
    {
     "name": "stderr",
     "output_type": "stream",
     "text": [
      "Epoch 8/10 [VAL]: 100%|\u001b[34m██████████████████████████████\u001b[0m| 11/11 [00:02<00:00,  5.20it/s, batch_acc=0.62]\u001b[34m\u001b[0m\n"
     ]
    },
    {
     "name": "stdout",
     "output_type": "stream",
     "text": [
      "Val Loss: 0.9011\n",
      "Val Accuracy: 0.5563\n",
      "\n"
     ]
    },
    {
     "name": "stderr",
     "output_type": "stream",
     "text": [
      "Epoch 9/10 [LR=3.09e-05]: 100%|\u001b[32m██████████████████████████████\u001b[0m| 99/99 [00:20<00:00,  4.72it/s, batch_loss=0.8568, lr=3.1e-05]\u001b[32m\u001b[0m\n"
     ]
    },
    {
     "name": "stdout",
     "output_type": "stream",
     "text": [
      "\n",
      "Epoch 9 Summary:\n",
      "Train Loss: 0.8852\n"
     ]
    },
    {
     "name": "stderr",
     "output_type": "stream",
     "text": [
      "Epoch 9/10 [VAL]: 100%|\u001b[34m██████████████████████████████\u001b[0m| 11/11 [00:02<00:00,  5.18it/s, batch_acc=0.62]\u001b[34m\u001b[0m\n"
     ]
    },
    {
     "name": "stdout",
     "output_type": "stream",
     "text": [
      "Val Loss: 0.9018\n",
      "Val Accuracy: 0.5563\n",
      "\n"
     ]
    },
    {
     "name": "stderr",
     "output_type": "stream",
     "text": [
      "Epoch 10/10 [LR=2.00e-05]: 100%|\u001b[32m██████████████████████████████\u001b[0m| 99/99 [00:20<00:00,  4.73it/s, batch_loss=0.9663, lr=2.0e-05]\u001b[32m\u001b[0m\n"
     ]
    },
    {
     "name": "stdout",
     "output_type": "stream",
     "text": [
      "\n",
      "Epoch 10 Summary:\n",
      "Train Loss: 0.8850\n"
     ]
    },
    {
     "name": "stderr",
     "output_type": "stream",
     "text": [
      "Epoch 10/10 [VAL]: 100%|\u001b[34m██████████████████████████████\u001b[0m| 11/11 [00:02<00:00,  5.18it/s, batch_acc=0.64]\u001b[34m\u001b[0m\n"
     ]
    },
    {
     "name": "stdout",
     "output_type": "stream",
     "text": [
      "Val Loss: 0.9010\n",
      "Val Accuracy: 0.5535\n",
      "\n"
     ]
    }
   ],
   "source": [
    "import matplotlib.pyplot as plt\n",
    "import numpy as np\n",
    "from tqdm import tqdm\n",
    "import time\n",
    "\n",
    "# Инициализация для логирования\n",
    "train_loss_history = []  # Лосс на каждом батче трейна\n",
    "val_loss_history = []    # Лосс на каждом батче валидации\n",
    "epoch_train_loss = []    # Средний лосс по эпохам (тренировка)\n",
    "epoch_val_loss = []      # Средний лосс по эпохам (валидация)\n",
    "\n",
    "\n",
    "for epoch in range(epochs):\n",
    "    model.train()\n",
    "    total_loss = 0\n",
    "    batch_train_loss = []\n",
    "    \n",
    "    train_iterator = tqdm(train_loader, \n",
    "                         desc=f'Epoch {epoch+1}/{epochs} [LR={optimizer.param_groups[0][\"lr\"]:.2e}]', \n",
    "                         bar_format='{l_bar}{bar:30}{r_bar}{bar:-30b}',\n",
    "                         colour='green')\n",
    "    \n",
    "    for batch in train_iterator:\n",
    "        input_ids = batch['input_ids'].to(device)\n",
    "        attention_mask = batch['attention_mask'].to(device)\n",
    "        labels = batch['label'].to(device)\n",
    "        \n",
    "        optimizer.zero_grad()\n",
    "        logits = model(input_ids, attention_mask)\n",
    "        loss = loss_fn(logits, labels)\n",
    "        loss.backward()\n",
    "        optimizer.step()\n",
    "        \n",
    "        total_loss += loss.item()\n",
    "        batch_train_loss.append(loss.item())\n",
    "        train_iterator.set_postfix({\n",
    "            'batch_loss': f'{loss.item():.4f}',\n",
    "            'lr': f'{optimizer.param_groups[0][\"lr\"]:.1e}'\n",
    "        })\n",
    "\n",
    "    scheduler.step() # двигаем шедулер\n",
    "    train_loss_history.extend(batch_train_loss)\n",
    "    epoch_train_loss.append(total_loss/len(train_loader))\n",
    "    \n",
    "    with tqdm.external_write_mode():\n",
    "        tqdm.write(f\"\\nEpoch {epoch+1} Summary:\")\n",
    "        tqdm.write(f\"Train Loss: {epoch_train_loss[-1]:.4f}\")\n",
    "    \n",
    "    model.eval()\n",
    "    correct = 0\n",
    "    total = 0\n",
    "    val_loss = 0\n",
    "    batch_val_loss = []\n",
    "    \n",
    "    val_iterator = tqdm(val_loader, \n",
    "                       desc=f'Epoch {epoch+1}/{epochs} [VAL]', \n",
    "                       bar_format='{l_bar}{bar:30}{r_bar}{bar:-30b}',\n",
    "                       colour='blue')\n",
    "    \n",
    "    with torch.no_grad():\n",
    "        for batch in val_iterator:\n",
    "            input_ids = batch['input_ids'].to(device)\n",
    "            attention_mask = batch['attention_mask'].to(device)\n",
    "            labels = batch['label'].to(device)\n",
    "            \n",
    "            logits = model(input_ids, attention_mask)\n",
    "            loss = loss_fn(logits, labels)\n",
    "            val_loss += loss.item()\n",
    "            batch_val_loss.append(loss.item())\n",
    "            \n",
    "            _, predicted = torch.max(logits, 1)\n",
    "            total += labels.size(0)\n",
    "            correct += (predicted == labels).sum().item()\n",
    "            \n",
    "            val_iterator.set_postfix({'batch_acc': f'{(predicted == labels).float().mean().item():.2f}'})\n",
    "    \n",
    "    val_loss_history.extend(batch_val_loss)\n",
    "    epoch_val_loss.append(val_loss/len(val_loader))\n",
    "    \n",
    "    with tqdm.external_write_mode():\n",
    "        tqdm.write(f\"Val Loss: {epoch_val_loss[-1]:.4f}\")\n",
    "        tqdm.write(f\"Val Accuracy: {correct/total:.4f}\\n\")\n",
    "    \n",
    "    time.sleep(0.5)"
   ]
  },
  {
   "cell_type": "code",
   "execution_count": 37,
   "id": "538d34e7",
   "metadata": {},
   "outputs": [
    {
     "data": {
      "image/png": "[encoded data removed]",
      "text/plain": [
       "<Figure size 1500x500 with 2 Axes>"
      ]
     },
     "metadata": {},
     "output_type": "display_data"
    }
   ],
   "source": [
    "# Визуализация после обучения\n",
    "plt.figure(figsize=(15, 5))\n",
    "\n",
    "plt.subplot(1, 2, 1)\n",
    "plt.plot(train_loss_history, label='Train', alpha=0.7)\n",
    "plt.plot(np.linspace(0, len(train_loss_history)-1, len(val_loss_history)), \n",
    "         val_loss_history, label='Val', alpha=0.7)\n",
    "plt.title('Loss per Batch')\n",
    "plt.xlabel('Batch Number')\n",
    "plt.ylabel('Loss')\n",
    "plt.legend()\n",
    "\n",
    "plt.subplot(1, 2, 2)\n",
    "plt.plot(epoch_train_loss, label='Train', marker='o')\n",
    "plt.plot(epoch_val_loss, label='Val', marker='o')\n",
    "plt.title('Loss per Epoch')\n",
    "plt.xlabel('Epoch')\n",
    "plt.ylabel('Average Loss')\n",
    "plt.legend()\n",
    "\n",
    "plt.tight_layout()\n",
    "plt.show()\n",
    "\n",
    "# Вывод финальных метрик\n",
    "# print(f\"\\nFinal Metrics:\")\n",
    "# print(f\"Train Loss: {epoch_train_loss[-1]:.4f}\")\n",
    "# print(f\"Val Loss: {epoch_val_loss[-1]:.4f}\")\n",
    "# print(f\"Val Accuracy: {correct/total:.4f}\")"
   ]
  },
  {
   "cell_type": "markdown",
   "id": "eb2395da",
   "metadata": {},
   "source": [
    "Видно, что дальше нет смысла обучать, мы вышли на плато и началось переобучение. Видимо задача довольно сложная для ruBERT, или же данные слишком шумные. Посмотрим на скор на тест сете."
   ]
  },
  {
   "cell_type": "code",
   "execution_count": 38,
   "id": "4536bf31",
   "metadata": {},
   "outputs": [],
   "source": [
    "torch.save({\n",
    "    'classifier_state_dict': model.classifier.state_dict(), # только голову сохраняем, она весит 2 мб\n",
    "    'classifier_config': {\n",
    "        'hidden_size': 768,\n",
    "        'num_labels': 3,\n",
    "        'dropout_prob': 0.1\n",
    "    }\n",
    "}, 'rubert_mlp_head.pth')"
   ]
  },
  {
   "cell_type": "markdown",
   "id": "f70904ad",
   "metadata": {},
   "source": [
    "**Вектор для дальнейших экспериментов:**\n",
    "- Взять rubert-base-cased, разморозить верхние слои + классификационную голову. Попробуем обучить часть модели и голову и посмотрим на результат.\n",
    "- Взять другую модель, например, большой берт или Roberta. Сравнить результаты."
   ]
  },
  {
   "cell_type": "markdown",
   "id": "e53221fa",
   "metadata": {},
   "source": [
    "### **Tests**"
   ]
  },
  {
   "cell_type": "code",
   "execution_count": null,
   "id": "a6d5ef1f",
   "metadata": {},
   "outputs": [],
   "source": [
    "from sklearn.metrics import classification_report\n",
    "\n",
    "def load_mlp_head(model_path):\n",
    "    checkpoint = torch.load(model_path)\n",
    "    model = BERTWithMLP(\n",
    "        bert_model_name='DeepPavlov/rubert-base-cased',\n",
    "        num_labels=checkpoint['classifier_config']['num_labels'],\n",
    "        hidden_size=checkpoint['classifier_config']['hidden_size'],\n",
    "        dropout_prob=checkpoint['classifier_config']['dropout_prob']\n",
    "    )\n",
    "    model.classifier.load_state_dict(checkpoint['classifier_state_dict'])\n",
    "    return model\n",
    "\n",
    "\n",
    "def evaluate_on_test(test_df, model, device):\n",
    "    model.to(device)\n",
    "    model.eval()\n",
    "    \n",
    "    test_dataset = FinancialDataset(\n",
    "        test_df['text_preprocessed'].values,\n",
    "        test_df['label'].values,\n",
    "        tokenizer\n",
    "    )\n",
    "    test_loader = DataLoader(test_dataset, batch_size=64)\n",
    "    \n",
    "    true_labels = []\n",
    "    predictions = []\n",
    "    \n",
    "    with torch.no_grad():\n",
    "        for batch in test_loader:\n",
    "            input_ids = batch['input_ids'].to(device)\n",
    "            attention_mask = batch['attention_mask'].to(device)\n",
    "            labels = batch['label'].cpu().numpy()\n",
    "            \n",
    "            logits = model(input_ids, attention_mask)\n",
    "            _, preds = torch.max(logits, 1)\n",
    "            \n",
    "            predictions.extend(preds.cpu().numpy())\n",
    "            true_labels.extend(labels)\n",
    "    \n",
    "    print(classification_report(true_labels, predictions, target_names=['buy', 'sell', 'neutral']))"
   ]
  },
  {
   "cell_type": "markdown",
   "id": "a7b1cc6a",
   "metadata": {},
   "source": [
    "**Проверка качества на голдене**"
   ]
  },
  {
   "cell_type": "code",
   "execution_count": 42,
   "id": "0fab4716",
   "metadata": {},
   "outputs": [
    {
     "name": "stderr",
     "output_type": "stream",
     "text": [
      "Some weights of the model checkpoint at DeepPavlov/rubert-base-cased were not used when initializing BertModel: ['cls.predictions.bias', 'cls.predictions.decoder.bias', 'cls.predictions.decoder.weight', 'cls.predictions.transform.LayerNorm.bias', 'cls.predictions.transform.LayerNorm.weight', 'cls.predictions.transform.dense.bias', 'cls.predictions.transform.dense.weight', 'cls.seq_relationship.bias', 'cls.seq_relationship.weight']\n",
      "- This IS expected if you are initializing BertModel from the checkpoint of a model trained on another task or with another architecture (e.g. initializing a BertForSequenceClassification model from a BertForPreTraining model).\n",
      "- This IS NOT expected if you are initializing BertModel from the checkpoint of a model that you expect to be exactly identical (initializing a BertForSequenceClassification model from a BertForSequenceClassification model).\n"
     ]
    }
   ],
   "source": [
    "tuned_model = load_mlp_head('rubert_mlp_head.pth')"
   ]
  },
  {
   "cell_type": "code",
   "execution_count": 44,
   "id": "bfbf816d",
   "metadata": {},
   "outputs": [
    {
     "name": "stdout",
     "output_type": "stream",
     "text": [
      "              precision    recall  f1-score   support\n",
      "\n",
      "         buy       0.47      0.74      0.58       142\n",
      "        sell       0.57      0.34      0.43       116\n",
      "     neutral       0.72      0.62      0.67       242\n",
      "\n",
      "    accuracy                           0.59       500\n",
      "   macro avg       0.59      0.57      0.56       500\n",
      "weighted avg       0.62      0.59      0.59       500\n",
      "\n"
     ]
    }
   ],
   "source": [
    "evaluate_on_test(\n",
    "    test_df=test_set,\n",
    "    model=tuned_model,\n",
    "    device=device,\n",
    ")"
   ]
  },
  {
   "cell_type": "markdown",
   "id": "374cbd5c",
   "metadata": {},
   "source": [
    "**Результаты работы**\n",
    "\n",
    "- Была обучена голова для модели RuBERT-base-cased для задачи определения финансового сентимента.\n",
    "- Качество на тест-сете ручной разметки составило accuracy=0.59, что не есть хорошо. Скорее всего есть более сложные смысловые зависимости в постах, которые модель BERT не распознает.\n",
    "- Лучше всего распознается класс neutral с f1=0.67\n",
    "- План для дальнейшего исследования: тюнинг больших моделей, разметка большего датасета"
   ]
  }
 ],
 "metadata": {
  "kernelspec": {
   "display_name": "Python 3",
   "language": "python",
   "name": "python3"
  },
  "language_info": {
   "codemirror_mode": {
    "name": "ipython",
    "version": 3
   },
   "file_extension": ".py",
   "mimetype": "text/x-python",
   "name": "python",
   "nbconvert_exporter": "python",
   "pygments_lexer": "ipython3",
   "version": "3.10.12"
  }
 },
 "nbformat": 4,
 "nbformat_minor": 5
}
